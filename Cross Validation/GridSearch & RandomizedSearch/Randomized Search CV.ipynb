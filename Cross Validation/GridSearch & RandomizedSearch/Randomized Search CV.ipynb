{
 "cells": [
  {
   "cell_type": "code",
   "execution_count": 4,
   "metadata": {},
   "outputs": [],
   "source": [
    "import numpy as np\n",
    "import pandas as pd\n",
    "import time\n",
    "\n",
    "from sklearn import metrics, preprocessing, tree\n",
    "from sklearn.metrics import f1_score, make_scorer\n",
    "from sklearn.model_selection import cross_val_score\n",
    "from sklearn.model_selection import GridSearchCV, RandomizedSearchCV\n",
    "from sklearn.model_selection import train_test_split\n",
    "import matplotlib.pyplot as plt\n",
    "%matplotlib inline \n",
    "\n",
    "import warnings\n",
    "warnings.filterwarnings(\"ignore\")"
   ]
  },
  {
   "cell_type": "code",
   "execution_count": 5,
   "metadata": {},
   "outputs": [],
   "source": [
    "\n",
    "np.random.seed(8)"
   ]
  },
  {
   "cell_type": "code",
   "execution_count": 6,
   "metadata": {},
   "outputs": [],
   "source": [
    "def timeit(method):\n",
    "    def timed(*args, **kw):\n",
    "        ts = time.time()\n",
    "        result = method(*args, **kw)\n",
    "        te = time.time()\n",
    "        if 'log_time' in kw:\n",
    "            name = kw.get('log_name', method.__name__.upper())\n",
    "            kw['log_time'][name] = int((te - ts) * 1000)\n",
    "        else:\n",
    "            print('%r  %2.2f ms' % \\\n",
    "                  (method.__name__, (te - ts) * 1000))\n",
    "        return result\n",
    "    return timed"
   ]
  },
  {
   "cell_type": "code",
   "execution_count": 7,
   "metadata": {},
   "outputs": [],
   "source": [
    "df = pd.read_csv('loan_prediction.csv')"
   ]
  },
  {
   "cell_type": "code",
   "execution_count": 8,
   "metadata": {},
   "outputs": [
    {
     "data": {
      "text/html": [
       "<div>\n",
       "<style scoped>\n",
       "    .dataframe tbody tr th:only-of-type {\n",
       "        vertical-align: middle;\n",
       "    }\n",
       "\n",
       "    .dataframe tbody tr th {\n",
       "        vertical-align: top;\n",
       "    }\n",
       "\n",
       "    .dataframe thead th {\n",
       "        text-align: right;\n",
       "    }\n",
       "</style>\n",
       "<table border=\"1\" class=\"dataframe\">\n",
       "  <thead>\n",
       "    <tr style=\"text-align: right;\">\n",
       "      <th></th>\n",
       "      <th>ApplicantIncome</th>\n",
       "      <th>CoapplicantIncome</th>\n",
       "      <th>LoanAmount</th>\n",
       "      <th>Loan_Amount_Term</th>\n",
       "      <th>Credit_History</th>\n",
       "      <th>Loan_Status</th>\n",
       "    </tr>\n",
       "  </thead>\n",
       "  <tbody>\n",
       "    <tr>\n",
       "      <th>532</th>\n",
       "      <td>3588</td>\n",
       "      <td>0.0</td>\n",
       "      <td>110.0</td>\n",
       "      <td>360.0</td>\n",
       "      <td>0.0</td>\n",
       "      <td>0</td>\n",
       "    </tr>\n",
       "  </tbody>\n",
       "</table>\n",
       "</div>"
      ],
      "text/plain": [
       "     ApplicantIncome  CoapplicantIncome  LoanAmount  Loan_Amount_Term  \\\n",
       "532             3588                0.0       110.0             360.0   \n",
       "\n",
       "     Credit_History  Loan_Status  \n",
       "532             0.0            0  "
      ]
     },
     "execution_count": 8,
     "metadata": {},
     "output_type": "execute_result"
    }
   ],
   "source": [
    "df.sample()"
   ]
  },
  {
   "cell_type": "code",
   "execution_count": 9,
   "metadata": {},
   "outputs": [
    {
     "data": {
      "text/plain": [
       "(614, 6)"
      ]
     },
     "execution_count": 9,
     "metadata": {},
     "output_type": "execute_result"
    }
   ],
   "source": [
    "df.shape"
   ]
  },
  {
   "cell_type": "code",
   "execution_count": 10,
   "metadata": {},
   "outputs": [],
   "source": [
    "from sklearn.tree import DecisionTreeClassifier as dt\n",
    "clf = dt()"
   ]
  },
  {
   "cell_type": "code",
   "execution_count": 11,
   "metadata": {},
   "outputs": [
    {
     "data": {
      "text/plain": [
       "DecisionTreeClassifier(class_weight=None, criterion='gini', max_depth=None,\n",
       "            max_features=None, max_leaf_nodes=None,\n",
       "            min_impurity_decrease=0.0, min_impurity_split=None,\n",
       "            min_samples_leaf=1, min_samples_split=2,\n",
       "            min_weight_fraction_leaf=0.0, presort=False, random_state=None,\n",
       "            splitter='best')"
      ]
     },
     "execution_count": 11,
     "metadata": {},
     "output_type": "execute_result"
    }
   ],
   "source": [
    "clf"
   ]
  },
  {
   "cell_type": "code",
   "execution_count": 12,
   "metadata": {},
   "outputs": [],
   "source": [
    "X = df.iloc[:,0:len(df.columns)-1].values\n",
    "Y = df.iloc[:,-1].values"
   ]
  },
  {
   "cell_type": "code",
   "execution_count": 13,
   "metadata": {},
   "outputs": [
    {
     "data": {
      "text/plain": [
       "(614, 5)"
      ]
     },
     "execution_count": 13,
     "metadata": {},
     "output_type": "execute_result"
    }
   ],
   "source": [
    "X.shape"
   ]
  },
  {
   "cell_type": "code",
   "execution_count": 14,
   "metadata": {},
   "outputs": [
    {
     "data": {
      "text/plain": [
       "(614,)"
      ]
     },
     "execution_count": 14,
     "metadata": {},
     "output_type": "execute_result"
    }
   ],
   "source": [
    "Y.shape"
   ]
  },
  {
   "cell_type": "code",
   "execution_count": 15,
   "metadata": {},
   "outputs": [],
   "source": [
    "X_train,X_test,Y_train,Y_test = train_test_split(X, Y, test_size=0.25, random_state=0)"
   ]
  },
  {
   "cell_type": "code",
   "execution_count": 16,
   "metadata": {},
   "outputs": [
    {
     "data": {
      "text/plain": [
       "(460, 5)"
      ]
     },
     "execution_count": 16,
     "metadata": {},
     "output_type": "execute_result"
    }
   ],
   "source": [
    "X_train.shape"
   ]
  },
  {
   "cell_type": "code",
   "execution_count": 17,
   "metadata": {},
   "outputs": [
    {
     "data": {
      "text/plain": [
       "(460,)"
      ]
     },
     "execution_count": 17,
     "metadata": {},
     "output_type": "execute_result"
    }
   ],
   "source": [
    "Y_train.shape"
   ]
  },
  {
   "cell_type": "code",
   "execution_count": 18,
   "metadata": {},
   "outputs": [
    {
     "data": {
      "text/plain": [
       "(154, 5)"
      ]
     },
     "execution_count": 18,
     "metadata": {},
     "output_type": "execute_result"
    }
   ],
   "source": [
    "X_test.shape"
   ]
  },
  {
   "cell_type": "code",
   "execution_count": 19,
   "metadata": {},
   "outputs": [],
   "source": [
    "scores = cross_val_score(clf, X_train, Y_train, cv=5, scoring='f1_macro')"
   ]
  },
  {
   "cell_type": "code",
   "execution_count": 20,
   "metadata": {},
   "outputs": [
    {
     "data": {
      "text/plain": [
       "0.6145160662852625"
      ]
     },
     "execution_count": 20,
     "metadata": {},
     "output_type": "execute_result"
    }
   ],
   "source": [
    "scores.mean()"
   ]
  },
  {
   "cell_type": "code",
   "execution_count": 21,
   "metadata": {},
   "outputs": [],
   "source": [
    "# Fit the model\n",
    "clf.fit(X_train, Y_train)\n",
    "\n",
    "# Make predictions\n",
    "train_predictions = clf.predict(X_train)\n",
    "test_predictions = clf.predict(X_test)"
   ]
  },
  {
   "cell_type": "code",
   "execution_count": 22,
   "metadata": {},
   "outputs": [
    {
     "data": {
      "text/plain": [
       "DecisionTreeClassifier(class_weight=None, criterion='gini', max_depth=None,\n",
       "            max_features=None, max_leaf_nodes=None,\n",
       "            min_impurity_decrease=0.0, min_impurity_split=None,\n",
       "            min_samples_leaf=1, min_samples_split=2,\n",
       "            min_weight_fraction_leaf=0.0, presort=False, random_state=None,\n",
       "            splitter='best')"
      ]
     },
     "execution_count": 22,
     "metadata": {},
     "output_type": "execute_result"
    }
   ],
   "source": [
    "clf"
   ]
  },
  {
   "cell_type": "code",
   "execution_count": 23,
   "metadata": {},
   "outputs": [],
   "source": [
    "train_cols = df.columns[0:len(df.columns)-1]"
   ]
  },
  {
   "cell_type": "code",
   "execution_count": 24,
   "metadata": {},
   "outputs": [],
   "source": [
    "target_cols = df.columns[-1]"
   ]
  },
  {
   "cell_type": "code",
   "execution_count": 25,
   "metadata": {},
   "outputs": [
    {
     "name": "stdout",
     "output_type": "stream",
     "text": [
      "The Training F1 Score is 1.0\n",
      "The Testing F1 Score is 0.743119266055046\n"
     ]
    }
   ],
   "source": [
    "print('The Training F1 Score is', f1_score(train_predictions, Y_train))\n",
    "print('The Testing F1 Score is', f1_score(test_predictions, Y_test))"
   ]
  },
  {
   "cell_type": "code",
   "execution_count": 26,
   "metadata": {},
   "outputs": [],
   "source": [
    "parameters = {'max_depth':[1,2,3,4,5], \n",
    "              'min_samples_leaf':[1,2,3,4,5], \n",
    "              'min_samples_split':[2,3,4,5],\n",
    "              'criterion' : ['gini','entropy']}\n",
    "\n",
    "scorer = make_scorer(f1_score)"
   ]
  },
  {
   "cell_type": "code",
   "execution_count": 29,
   "metadata": {},
   "outputs": [],
   "source": [
    "@timeit\n",
    "def generate_clf_from_search(grid_or_random, clf, parameters, scorer, X, y):\n",
    "    if grid_or_random == \"Grid\":\n",
    "        search_obj = GridSearchCV(clf, parameters, scoring=scorer)\n",
    "        \n",
    "    elif grid_or_random == \"Random\":\n",
    "        search_obj = RandomizedSearchCV(clf, parameters, scoring=scorer)\n",
    "        \n",
    "    fit_obj = search_obj.fit(X, y)\n",
    "    best_clf = fit_obj.best_estimator_\n",
    "    \n",
    "    return best_clf, search_obj, fit_obj"
   ]
  },
  {
   "cell_type": "code",
   "execution_count": 30,
   "metadata": {},
   "outputs": [
    {
     "name": "stdout",
     "output_type": "stream",
     "text": [
      "'generate_clf_from_search'  2491.36 ms\n"
     ]
    }
   ],
   "source": [
    "best_clf_grid, search,fit = generate_clf_from_search(\"Grid\", \n",
    "                                         clf, \n",
    "                                         parameters, \n",
    "                                         scorer, \n",
    "                                         X_train, \n",
    "                                         Y_train)"
   ]
  },
  {
   "cell_type": "code",
   "execution_count": 31,
   "metadata": {},
   "outputs": [
    {
     "data": {
      "text/plain": [
       "{'criterion': 'gini',\n",
       " 'max_depth': 1,\n",
       " 'min_samples_leaf': 1,\n",
       " 'min_samples_split': 2}"
      ]
     },
     "execution_count": 31,
     "metadata": {},
     "output_type": "execute_result"
    }
   ],
   "source": [
    "fit.cv_results_['params'][0]"
   ]
  },
  {
   "cell_type": "code",
   "execution_count": 32,
   "metadata": {},
   "outputs": [
    {
     "data": {
      "text/plain": [
       "0.8356047177376769"
      ]
     },
     "execution_count": 32,
     "metadata": {},
     "output_type": "execute_result"
    }
   ],
   "source": [
    "fit.cv_results_['mean_test_score'][0]"
   ]
  },
  {
   "cell_type": "code",
   "execution_count": 33,
   "metadata": {},
   "outputs": [
    {
     "data": {
      "text/plain": [
       "200"
      ]
     },
     "execution_count": 33,
     "metadata": {},
     "output_type": "execute_result"
    }
   ],
   "source": [
    "len(fit.cv_results_['mean_test_score'])"
   ]
  },
  {
   "cell_type": "code",
   "execution_count": 34,
   "metadata": {},
   "outputs": [],
   "source": [
    "out_f1_values = fit.cv_results_['mean_test_score']"
   ]
  },
  {
   "cell_type": "code",
   "execution_count": 35,
   "metadata": {},
   "outputs": [],
   "source": [
    "out_f1_values.sort()"
   ]
  },
  {
   "cell_type": "code",
   "execution_count": 36,
   "metadata": {},
   "outputs": [
    {
     "data": {
      "text/plain": [
       "array([0.78976203, 0.79070395, 0.79070395, 0.79070395, 0.79070395,\n",
       "       0.79090473, 0.7923002 , 0.79259313, 0.79438469, 0.79448533,\n",
       "       0.79448533, 0.79568841, 0.79570629, 0.79570629, 0.79574012,\n",
       "       0.79731269, 0.79860787, 0.79860787, 0.79860787, 0.79932021,\n",
       "       0.80507363, 0.80507363, 0.80507363, 0.80507363, 0.80739729,\n",
       "       0.80749613, 0.80749613, 0.80749613, 0.80750988, 0.80817635,\n",
       "       0.80869565, 0.80869565, 0.80869565, 0.80932525, 0.80967395,\n",
       "       0.80967395, 0.80967395, 0.80990968, 0.81048593, 0.81048593,\n",
       "       0.8105899 , 0.81094531, 0.81168316, 0.81168316, 0.81181327,\n",
       "       0.81181327, 0.81181327, 0.81181327, 0.81246582, 0.81253712,\n",
       "       0.81253712, 0.81253712, 0.81253712, 0.81260059, 0.81260059,\n",
       "       0.81260059, 0.81260059, 0.81310697, 0.81310697, 0.81310697,\n",
       "       0.81319416, 0.81319416, 0.81319416, 0.81365949, 0.81383531,\n",
       "       0.81383531, 0.81383531, 0.81436147, 0.81436147, 0.81436147,\n",
       "       0.81436147, 0.81622428, 0.81622428, 0.81729405, 0.81744042,\n",
       "       0.81744042, 0.81976757, 0.81976757, 0.81976757, 0.81976757,\n",
       "       0.81976757, 0.81976757, 0.81976757, 0.81976757, 0.81986483,\n",
       "       0.81986483, 0.81986483, 0.81986483, 0.82482412, 0.82490084,\n",
       "       0.82490084, 0.82490084, 0.82490084, 0.82490084, 0.82490084,\n",
       "       0.82490084, 0.82536791, 0.82536791, 0.82560797, 0.82560797,\n",
       "       0.82560797, 0.82653386, 0.82699635, 0.82699635, 0.82800352,\n",
       "       0.82800352, 0.82800352, 0.82800352, 0.82800352, 0.82800352,\n",
       "       0.82823829, 0.82823829, 0.82823829, 0.82823829, 0.82823829,\n",
       "       0.82823829, 0.82847058, 0.82892941, 0.82892941, 0.82892941,\n",
       "       0.83266044, 0.83266044, 0.83266044, 0.83266044, 0.83266044,\n",
       "       0.83390239, 0.83390239, 0.83390239, 0.83390239, 0.83390239,\n",
       "       0.83390239, 0.83390239, 0.83390239, 0.83390239, 0.83390239,\n",
       "       0.83390239, 0.83390239, 0.83390239, 0.83390239, 0.83390239,\n",
       "       0.83390239, 0.83390239, 0.83390239, 0.83390239, 0.83390239,\n",
       "       0.83390239, 0.83390239, 0.83390239, 0.83390239, 0.83390239,\n",
       "       0.83390239, 0.83390239, 0.83390239, 0.83390239, 0.83390239,\n",
       "       0.83390239, 0.83390239, 0.83390239, 0.83390239, 0.83390239,\n",
       "       0.83560472, 0.83560472, 0.83560472, 0.83560472, 0.83560472,\n",
       "       0.83560472, 0.83560472, 0.83560472, 0.83560472, 0.83560472,\n",
       "       0.83560472, 0.83560472, 0.83560472, 0.83560472, 0.83560472,\n",
       "       0.83560472, 0.83560472, 0.83560472, 0.83560472, 0.83560472,\n",
       "       0.83560472, 0.83560472, 0.83560472, 0.83560472, 0.83560472,\n",
       "       0.83560472, 0.83560472, 0.83560472, 0.83560472, 0.83560472,\n",
       "       0.83560472, 0.83560472, 0.83560472, 0.83560472, 0.83560472,\n",
       "       0.83560472, 0.83560472, 0.83560472, 0.83560472, 0.83560472])"
      ]
     },
     "execution_count": 36,
     "metadata": {},
     "output_type": "execute_result"
    }
   ],
   "source": [
    "out_f1_values"
   ]
  },
  {
   "cell_type": "code",
   "execution_count": 37,
   "metadata": {},
   "outputs": [
    {
     "data": {
      "text/plain": [
       "[<matplotlib.lines.Line2D at 0x22b53e7c4a8>]"
      ]
     },
     "execution_count": 37,
     "metadata": {},
     "output_type": "execute_result"
    },
    {
     "data": {
      "image/png": "[encoded data removed]",
      "text/plain": [
       "<Figure size 432x288 with 1 Axes>"
      ]
     },
     "metadata": {
      "needs_background": "light"
     },
     "output_type": "display_data"
    }
   ],
   "source": [
    "plt.plot(out_f1_values)"
   ]
  },
  {
   "cell_type": "code",
   "execution_count": 38,
   "metadata": {},
   "outputs": [],
   "source": [
    "r_values = np.random.choice(out_f1_values, 61, replace=False)"
   ]
  },
  {
   "cell_type": "code",
   "execution_count": 39,
   "metadata": {},
   "outputs": [
    {
     "data": {
      "text/plain": [
       "array([0.83560472, 0.83560472, 0.83560472, 0.83560472, 0.83560472,\n",
       "       0.83560472, 0.83560472, 0.83560472, 0.83560472, 0.83560472,\n",
       "       0.83560472, 0.83560472])"
      ]
     },
     "execution_count": 39,
     "metadata": {},
     "output_type": "execute_result"
    }
   ],
   "source": [
    "r_values[r_values > 0.83390239]"
   ]
  },
  {
   "cell_type": "code",
   "execution_count": 40,
   "metadata": {},
   "outputs": [
    {
     "data": {
      "text/plain": [
       "array([0.83560472, 0.83390239, 0.81319416, 0.83390239, 0.81253712,\n",
       "       0.81976757, 0.80967395, 0.83390239, 0.79570629, 0.83560472,\n",
       "       0.81365949, 0.81976757, 0.81168316, 0.82699635, 0.83390239,\n",
       "       0.83390239, 0.83390239, 0.83390239, 0.83560472, 0.81986483,\n",
       "       0.82490084, 0.83560472, 0.82823829, 0.81181327, 0.82823829,\n",
       "       0.83560472, 0.83390239, 0.83560472, 0.81260059, 0.81986483,\n",
       "       0.81260059, 0.82892941, 0.83390239, 0.80869565, 0.83560472,\n",
       "       0.83560472, 0.83390239, 0.82699635, 0.79731269, 0.83390239,\n",
       "       0.82653386, 0.80507363, 0.81622428, 0.83390239, 0.82490084,\n",
       "       0.82560797, 0.81253712, 0.80869565, 0.83560472, 0.81260059,\n",
       "       0.82560797, 0.83390239, 0.80967395, 0.82892941, 0.83560472,\n",
       "       0.82823829, 0.83390239, 0.83560472, 0.81181327, 0.8105899 ,\n",
       "       0.83560472])"
      ]
     },
     "execution_count": 40,
     "metadata": {},
     "output_type": "execute_result"
    }
   ],
   "source": [
    "r_values"
   ]
  },
  {
   "cell_type": "code",
   "execution_count": 41,
   "metadata": {},
   "outputs": [
    {
     "data": {
      "text/plain": [
       "0.7056824255406972"
      ]
     },
     "execution_count": 41,
     "metadata": {},
     "output_type": "execute_result"
    }
   ],
   "source": [
    "scores = cross_val_score(best_clf_grid, X_train, Y_train, cv=5, scoring='f1_macro')\n",
    "scores.mean()"
   ]
  },
  {
   "cell_type": "code",
   "execution_count": 45,
   "metadata": {},
   "outputs": [
    {
     "name": "stdout",
     "output_type": "stream",
     "text": [
      "The training F1 Score is 0.836\n",
      "The testing F1 Score is 0.8620689655172413\n"
     ]
    }
   ],
   "source": [
    "best_clf_grid.fit(X_train, Y_train)\n",
    "\n",
    "# Make predictions using the new model.\n",
    "best_train_predictions = best_clf_grid.predict(X_train)\n",
    "best_test_predictions = best_clf_grid.predict(X_test)\n",
    "\n",
    "\n",
    "# Calculate the f1_score of the new model.\n",
    "print('The training F1 Score is {0:.3f}' .format(f1_score(best_train_predictions, Y_train)))\n",
    "print('The testing F1 Score is', f1_score(best_test_predictions, Y_test))"
   ]
  },
  {
   "cell_type": "code",
   "execution_count": 46,
   "metadata": {},
   "outputs": [
    {
     "name": "stdout",
     "output_type": "stream",
     "text": [
      "'generate_clf_from_search'  138.63 ms\n"
     ]
    }
   ],
   "source": [
    "\n",
    "#Randomized\n",
    "best_clf_random, _, _ = generate_clf_from_search(\"Random\", \n",
    "                                           clf, \n",
    "                                           parameters, \n",
    "                                           scorer, \n",
    "                                           X_train, \n",
    "                                           Y_train)"
   ]
  },
  {
   "cell_type": "code",
   "execution_count": 47,
   "metadata": {},
   "outputs": [
    {
     "data": {
      "text/plain": [
       "0.7056824255406972"
      ]
     },
     "execution_count": 47,
     "metadata": {},
     "output_type": "execute_result"
    }
   ],
   "source": [
    "scores = cross_val_score(best_clf_random, X_train, Y_train, cv=5, scoring='f1_macro')\n",
    "scores.mean()"
   ]
  },
  {
   "cell_type": "code",
   "execution_count": 48,
   "metadata": {},
   "outputs": [
    {
     "name": "stdout",
     "output_type": "stream",
     "text": [
      "The training F1 Score is 0.8360902255639098\n",
      "The testing F1 Score is 0.8620689655172413\n"
     ]
    }
   ],
   "source": [
    "best_clf_random.fit(X_train, Y_train)\n",
    "\n",
    "# Make predictions using the new model.\n",
    "best_train_predictions = best_clf_random.predict(X_train)\n",
    "best_test_predictions = best_clf_random.predict(X_test)\n",
    "\n",
    "# Calculate the f1_score of the new model.\n",
    "print('The training F1 Score is', f1_score(best_train_predictions, Y_train))\n",
    "print('The testing F1 Score is', f1_score(best_test_predictions, Y_test))"
   ]
  },
  {
   "cell_type": "code",
   "execution_count": 49,
   "metadata": {},
   "outputs": [
    {
     "data": {
      "text/html": [
       "<div>\n",
       "<style scoped>\n",
       "    .dataframe tbody tr th:only-of-type {\n",
       "        vertical-align: middle;\n",
       "    }\n",
       "\n",
       "    .dataframe tbody tr th {\n",
       "        vertical-align: top;\n",
       "    }\n",
       "\n",
       "    .dataframe thead th {\n",
       "        text-align: right;\n",
       "    }\n",
       "</style>\n",
       "<table border=\"1\" class=\"dataframe\">\n",
       "  <thead>\n",
       "    <tr style=\"text-align: right;\">\n",
       "      <th></th>\n",
       "      <th>ApplicantIncome</th>\n",
       "      <th>CoapplicantIncome</th>\n",
       "      <th>LoanAmount</th>\n",
       "      <th>Loan_Amount_Term</th>\n",
       "      <th>Credit_History</th>\n",
       "      <th>Loan_Status</th>\n",
       "    </tr>\n",
       "  </thead>\n",
       "  <tbody>\n",
       "    <tr>\n",
       "      <th>0</th>\n",
       "      <td>5849</td>\n",
       "      <td>0.0</td>\n",
       "      <td>0.0</td>\n",
       "      <td>360.0</td>\n",
       "      <td>1.0</td>\n",
       "      <td>1</td>\n",
       "    </tr>\n",
       "    <tr>\n",
       "      <th>1</th>\n",
       "      <td>4583</td>\n",
       "      <td>1508.0</td>\n",
       "      <td>128.0</td>\n",
       "      <td>360.0</td>\n",
       "      <td>1.0</td>\n",
       "      <td>0</td>\n",
       "    </tr>\n",
       "    <tr>\n",
       "      <th>2</th>\n",
       "      <td>3000</td>\n",
       "      <td>0.0</td>\n",
       "      <td>66.0</td>\n",
       "      <td>360.0</td>\n",
       "      <td>1.0</td>\n",
       "      <td>1</td>\n",
       "    </tr>\n",
       "    <tr>\n",
       "      <th>3</th>\n",
       "      <td>2583</td>\n",
       "      <td>2358.0</td>\n",
       "      <td>120.0</td>\n",
       "      <td>360.0</td>\n",
       "      <td>1.0</td>\n",
       "      <td>1</td>\n",
       "    </tr>\n",
       "    <tr>\n",
       "      <th>4</th>\n",
       "      <td>6000</td>\n",
       "      <td>0.0</td>\n",
       "      <td>141.0</td>\n",
       "      <td>360.0</td>\n",
       "      <td>1.0</td>\n",
       "      <td>1</td>\n",
       "    </tr>\n",
       "  </tbody>\n",
       "</table>\n",
       "</div>"
      ],
      "text/plain": [
       "   ApplicantIncome  CoapplicantIncome  LoanAmount  Loan_Amount_Term  \\\n",
       "0             5849                0.0         0.0             360.0   \n",
       "1             4583             1508.0       128.0             360.0   \n",
       "2             3000                0.0        66.0             360.0   \n",
       "3             2583             2358.0       120.0             360.0   \n",
       "4             6000                0.0       141.0             360.0   \n",
       "\n",
       "   Credit_History  Loan_Status  \n",
       "0             1.0            1  \n",
       "1             1.0            0  \n",
       "2             1.0            1  \n",
       "3             1.0            1  \n",
       "4             1.0            1  "
      ]
     },
     "execution_count": 49,
     "metadata": {},
     "output_type": "execute_result"
    }
   ],
   "source": [
    "df.head(5)"
   ]
  },
  {
   "cell_type": "code",
   "execution_count": null,
   "metadata": {},
   "outputs": [],
   "source": []
  }
 ],
 "metadata": {
  "kernelspec": {
   "display_name": "Python 3",
   "language": "python",
   "name": "python3"
  },
  "language_info": {
   "codemirror_mode": {
    "name": "ipython",
    "version": 3
   },
   "file_extension": ".py",
   "mimetype": "text/x-python",
   "name": "python",
   "nbconvert_exporter": "python",
   "pygments_lexer": "ipython3",
   "version": "3.7.3"
  }
 },
 "nbformat": 4,
 "nbformat_minor": 2
}
