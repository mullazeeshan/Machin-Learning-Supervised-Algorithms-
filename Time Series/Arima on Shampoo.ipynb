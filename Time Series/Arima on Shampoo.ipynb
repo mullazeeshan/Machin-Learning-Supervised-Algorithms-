{
 "cells": [
  {
   "cell_type": "code",
   "execution_count": 1,
   "metadata": {},
   "outputs": [],
   "source": [
    "import numpy as np\n",
    "import pandas as pd\n",
    "import matplotlib.pyplot as plt\n",
    "%matplotlib inline"
   ]
  },
  {
   "cell_type": "code",
   "execution_count": 2,
   "metadata": {},
   "outputs": [],
   "source": [
    "shampoo=\"https://raw.githubusercontent.com/emanuelaf/emanuelaf.github.io/master/data/sales-of-shampoo.csv\"\n",
    "shampoo=pd.read_csv(shampoo)"
   ]
  },
  {
   "cell_type": "code",
   "execution_count": 3,
   "metadata": {},
   "outputs": [
    {
     "data": {
      "text/html": [
       "<div>\n",
       "<style scoped>\n",
       "    .dataframe tbody tr th:only-of-type {\n",
       "        vertical-align: middle;\n",
       "    }\n",
       "\n",
       "    .dataframe tbody tr th {\n",
       "        vertical-align: top;\n",
       "    }\n",
       "\n",
       "    .dataframe thead th {\n",
       "        text-align: right;\n",
       "    }\n",
       "</style>\n",
       "<table border=\"1\" class=\"dataframe\">\n",
       "  <thead>\n",
       "    <tr style=\"text-align: right;\">\n",
       "      <th></th>\n",
       "      <th>Month</th>\n",
       "      <th>Sales of shampoo over a three year period</th>\n",
       "    </tr>\n",
       "  </thead>\n",
       "  <tbody>\n",
       "    <tr>\n",
       "      <th>33</th>\n",
       "      <td>3-10</td>\n",
       "      <td>475.3</td>\n",
       "    </tr>\n",
       "    <tr>\n",
       "      <th>34</th>\n",
       "      <td>3-11</td>\n",
       "      <td>581.3</td>\n",
       "    </tr>\n",
       "    <tr>\n",
       "      <th>35</th>\n",
       "      <td>3-12</td>\n",
       "      <td>646.9</td>\n",
       "    </tr>\n",
       "    <tr>\n",
       "      <th>36</th>\n",
       "      <td>NaN</td>\n",
       "      <td>NaN</td>\n",
       "    </tr>\n",
       "    <tr>\n",
       "      <th>37</th>\n",
       "      <td>Sales of shampoo over a three year period</td>\n",
       "      <td>NaN</td>\n",
       "    </tr>\n",
       "  </tbody>\n",
       "</table>\n",
       "</div>"
      ],
      "text/plain": [
       "                                        Month  \\\n",
       "33                                       3-10   \n",
       "34                                       3-11   \n",
       "35                                       3-12   \n",
       "36                                        NaN   \n",
       "37  Sales of shampoo over a three year period   \n",
       "\n",
       "    Sales of shampoo over a three year period  \n",
       "33                                      475.3  \n",
       "34                                      581.3  \n",
       "35                                      646.9  \n",
       "36                                        NaN  \n",
       "37                                        NaN  "
      ]
     },
     "execution_count": 3,
     "metadata": {},
     "output_type": "execute_result"
    }
   ],
   "source": [
    "shampoo.tail(5)"
   ]
  },
  {
   "cell_type": "code",
   "execution_count": 4,
   "metadata": {},
   "outputs": [
    {
     "name": "stdout",
     "output_type": "stream",
     "text": [
      "<class 'pandas.core.frame.DataFrame'>\n",
      "RangeIndex: 38 entries, 0 to 37\n",
      "Data columns (total 2 columns):\n",
      "Month                                        37 non-null object\n",
      "Sales of shampoo over a three year period    36 non-null float64\n",
      "dtypes: float64(1), object(1)\n",
      "memory usage: 688.0+ bytes\n"
     ]
    }
   ],
   "source": [
    "type(shampoo)\n",
    "shampoo.info()"
   ]
  },
  {
   "cell_type": "code",
   "execution_count": 5,
   "metadata": {},
   "outputs": [],
   "source": [
    "shampoo=pd.read_csv(\"https://raw.githubusercontent.com/emanuelaf/emanuelaf.github.io/master/data/sales-of-shampoo.csv\"\n",
    ", index_col=[0], parse_dates = True, squeeze = True)"
   ]
  },
  {
   "cell_type": "code",
   "execution_count": 6,
   "metadata": {},
   "outputs": [
    {
     "data": {
      "text/plain": [
       "count     36.000000\n",
       "mean     312.600000\n",
       "std      148.937164\n",
       "min      119.300000\n",
       "25%      192.450000\n",
       "50%      280.150000\n",
       "75%      411.100000\n",
       "max      682.000000\n",
       "Name: Sales of shampoo over a three year period, dtype: float64"
      ]
     },
     "execution_count": 6,
     "metadata": {},
     "output_type": "execute_result"
    }
   ],
   "source": [
    "shampoo.describe()"
   ]
  },
  {
   "cell_type": "code",
   "execution_count": 7,
   "metadata": {},
   "outputs": [
    {
     "data": {
      "text/plain": [
       "pandas.core.series.Series"
      ]
     },
     "execution_count": 7,
     "metadata": {},
     "output_type": "execute_result"
    }
   ],
   "source": [
    "type(shampoo)"
   ]
  },
  {
   "cell_type": "code",
   "execution_count": 8,
   "metadata": {},
   "outputs": [
    {
     "data": {
      "text/plain": [
       "<matplotlib.axes._subplots.AxesSubplot at 0x1873cc63be0>"
      ]
     },
     "execution_count": 8,
     "metadata": {},
     "output_type": "execute_result"
    },
    {
     "data": {
      "image/png": "[encoded data removed]",
      "text/plain": [
       "<Figure size 432x288 with 1 Axes>"
      ]
     },
     "metadata": {
      "needs_background": "light"
     },
     "output_type": "display_data"
    }
   ],
   "source": [
    "shampoo.plot()"
   ]
  },
  {
   "cell_type": "code",
   "execution_count": 9,
   "metadata": {},
   "outputs": [
    {
     "data": {
      "text/plain": [
       "<matplotlib.axes._subplots.AxesSubplot at 0x1873cc63320>"
      ]
     },
     "execution_count": 9,
     "metadata": {},
     "output_type": "execute_result"
    },
    {
     "data": {
      "image/png": "[encoded data removed]",
      "text/plain": [
       "<Figure size 432x288 with 1 Axes>"
      ]
     },
     "metadata": {
      "needs_background": "light"
     },
     "output_type": "display_data"
    }
   ],
   "source": [
    "shampoo.plot( style= '.')"
   ]
  },
  {
   "cell_type": "code",
   "execution_count": 10,
   "metadata": {},
   "outputs": [
    {
     "data": {
      "text/plain": [
       "38"
      ]
     },
     "execution_count": 10,
     "metadata": {},
     "output_type": "execute_result"
    }
   ],
   "source": [
    "shampoo.size"
   ]
  },
  {
   "cell_type": "code",
   "execution_count": 11,
   "metadata": {},
   "outputs": [
    {
     "data": {
      "text/plain": [
       "count     36.000000\n",
       "mean     312.600000\n",
       "std      148.937164\n",
       "min      119.300000\n",
       "25%      192.450000\n",
       "50%      280.150000\n",
       "75%      411.100000\n",
       "max      682.000000\n",
       "Name: Sales of shampoo over a three year period, dtype: float64"
      ]
     },
     "execution_count": 11,
     "metadata": {},
     "output_type": "execute_result"
    }
   ],
   "source": [
    "shampoo.describe()"
   ]
  },
  {
   "cell_type": "code",
   "execution_count": 12,
   "metadata": {},
   "outputs": [],
   "source": [
    "shampoo.drop(np.nan,axis=0,inplace=True)"
   ]
  },
  {
   "cell_type": "code",
   "execution_count": 13,
   "metadata": {},
   "outputs": [
    {
     "data": {
      "text/plain": [
       "Month\n",
       "3-09                                         682.0\n",
       "3-10                                         475.3\n",
       "3-11                                         581.3\n",
       "3-12                                         646.9\n",
       "Sales of shampoo over a three year period      NaN\n",
       "Name: Sales of shampoo over a three year period, dtype: float64"
      ]
     },
     "execution_count": 13,
     "metadata": {},
     "output_type": "execute_result"
    }
   ],
   "source": [
    "shampoo.tail(5)"
   ]
  },
  {
   "cell_type": "code",
   "execution_count": 14,
   "metadata": {},
   "outputs": [],
   "source": [
    "shampoo.drop(\"Sales of shampoo over a three year period\",axis=0,inplace=True)"
   ]
  },
  {
   "cell_type": "code",
   "execution_count": 15,
   "metadata": {},
   "outputs": [
    {
     "data": {
      "text/plain": [
       "36"
      ]
     },
     "execution_count": 15,
     "metadata": {},
     "output_type": "execute_result"
    }
   ],
   "source": [
    "shampoo.size"
   ]
  },
  {
   "cell_type": "code",
   "execution_count": 16,
   "metadata": {},
   "outputs": [],
   "source": [
    "shampoo_ma= shampoo.rolling(window=10).mean()"
   ]
  },
  {
   "cell_type": "code",
   "execution_count": 17,
   "metadata": {},
   "outputs": [
    {
     "data": {
      "text/plain": [
       "<matplotlib.axes._subplots.AxesSubplot at 0x1873d008ac8>"
      ]
     },
     "execution_count": 17,
     "metadata": {},
     "output_type": "execute_result"
    },
    {
     "data": {
      "image/png": "[encoded data removed]",
      "text/plain": [
       "<Figure size 432x288 with 1 Axes>"
      ]
     },
     "metadata": {
      "needs_background": "light"
     },
     "output_type": "display_data"
    }
   ],
   "source": [
    "shampoo_ma.plot()"
   ]
  },
  {
   "cell_type": "code",
   "execution_count": 18,
   "metadata": {},
   "outputs": [
    {
     "data": {
      "text/plain": [
       "Month\n",
       "3-09    682.0\n",
       "1-03    183.1\n",
       "3-12    646.9\n",
       "2-03    210.1\n",
       "Name: Sales of shampoo over a three year period, dtype: float64"
      ]
     },
     "execution_count": 18,
     "metadata": {},
     "output_type": "execute_result"
    }
   ],
   "source": [
    "shampoo.sample(4)"
   ]
  },
  {
   "cell_type": "code",
   "execution_count": 19,
   "metadata": {},
   "outputs": [],
   "source": [
    "shampoo_base= pd.concat([shampoo, shampoo.shift(1)], axis=1)"
   ]
  },
  {
   "cell_type": "code",
   "execution_count": 20,
   "metadata": {},
   "outputs": [
    {
     "data": {
      "text/html": [
       "<div>\n",
       "<style scoped>\n",
       "    .dataframe tbody tr th:only-of-type {\n",
       "        vertical-align: middle;\n",
       "    }\n",
       "\n",
       "    .dataframe tbody tr th {\n",
       "        vertical-align: top;\n",
       "    }\n",
       "\n",
       "    .dataframe thead th {\n",
       "        text-align: right;\n",
       "    }\n",
       "</style>\n",
       "<table border=\"1\" class=\"dataframe\">\n",
       "  <thead>\n",
       "    <tr style=\"text-align: right;\">\n",
       "      <th></th>\n",
       "      <th>Sales of shampoo over a three year period</th>\n",
       "      <th>Sales of shampoo over a three year period</th>\n",
       "    </tr>\n",
       "    <tr>\n",
       "      <th>Month</th>\n",
       "      <th></th>\n",
       "      <th></th>\n",
       "    </tr>\n",
       "  </thead>\n",
       "  <tbody>\n",
       "    <tr>\n",
       "      <th>1-01</th>\n",
       "      <td>266.0</td>\n",
       "      <td>NaN</td>\n",
       "    </tr>\n",
       "    <tr>\n",
       "      <th>1-02</th>\n",
       "      <td>145.9</td>\n",
       "      <td>266.0</td>\n",
       "    </tr>\n",
       "    <tr>\n",
       "      <th>1-03</th>\n",
       "      <td>183.1</td>\n",
       "      <td>145.9</td>\n",
       "    </tr>\n",
       "    <tr>\n",
       "      <th>1-04</th>\n",
       "      <td>119.3</td>\n",
       "      <td>183.1</td>\n",
       "    </tr>\n",
       "    <tr>\n",
       "      <th>1-05</th>\n",
       "      <td>180.3</td>\n",
       "      <td>119.3</td>\n",
       "    </tr>\n",
       "  </tbody>\n",
       "</table>\n",
       "</div>"
      ],
      "text/plain": [
       "       Sales of shampoo over a three year period  \\\n",
       "Month                                              \n",
       "1-01                                       266.0   \n",
       "1-02                                       145.9   \n",
       "1-03                                       183.1   \n",
       "1-04                                       119.3   \n",
       "1-05                                       180.3   \n",
       "\n",
       "       Sales of shampoo over a three year period  \n",
       "Month                                             \n",
       "1-01                                         NaN  \n",
       "1-02                                       266.0  \n",
       "1-03                                       145.9  \n",
       "1-04                                       183.1  \n",
       "1-05                                       119.3  "
      ]
     },
     "execution_count": 20,
     "metadata": {},
     "output_type": "execute_result"
    }
   ],
   "source": [
    "shampoo_base.head(5)"
   ]
  },
  {
   "cell_type": "code",
   "execution_count": 21,
   "metadata": {},
   "outputs": [],
   "source": [
    "shampoo_base.columns= [ 'Actual_Sales', 'Forecast_Sales']"
   ]
  },
  {
   "cell_type": "code",
   "execution_count": 22,
   "metadata": {},
   "outputs": [],
   "source": [
    "shampoo_base.dropna(inplace = True)"
   ]
  },
  {
   "cell_type": "code",
   "execution_count": 23,
   "metadata": {},
   "outputs": [],
   "source": [
    "from sklearn.metrics import mean_squared_error"
   ]
  },
  {
   "cell_type": "code",
   "execution_count": 24,
   "metadata": {},
   "outputs": [],
   "source": [
    "shampoo_error= mean_squared_error(shampoo_base.Actual_Sales, shampoo_base.Forecast_Sales)"
   ]
  },
  {
   "cell_type": "code",
   "execution_count": 25,
   "metadata": {},
   "outputs": [
    {
     "data": {
      "text/plain": [
       "11715.388285714285"
      ]
     },
     "execution_count": 25,
     "metadata": {},
     "output_type": "execute_result"
    }
   ],
   "source": [
    "shampoo_error"
   ]
  },
  {
   "cell_type": "code",
   "execution_count": 26,
   "metadata": {},
   "outputs": [
    {
     "data": {
      "text/plain": [
       "108.23764726616282"
      ]
     },
     "execution_count": 26,
     "metadata": {},
     "output_type": "execute_result"
    }
   ],
   "source": [
    "np.sqrt(shampoo_error)"
   ]
  },
  {
   "cell_type": "code",
   "execution_count": 27,
   "metadata": {},
   "outputs": [],
   "source": [
    "#ARIMA(p,d,q)\n",
    "from statsmodels.graphics.tsaplots import plot_acf, plot_pacf"
   ]
  },
  {
   "cell_type": "code",
   "execution_count": 28,
   "metadata": {},
   "outputs": [
    {
     "data": {
      "image/png": "[encoded data removed]",
      "text/plain": [
       "<Figure size 432x288 with 1 Axes>"
      ]
     },
     "execution_count": 28,
     "metadata": {},
     "output_type": "execute_result"
    },
    {
     "data": {
      "image/png": "[encoded data removed]",
      "text/plain": [
       "<Figure size 432x288 with 1 Axes>"
      ]
     },
     "metadata": {
      "needs_background": "light"
     },
     "output_type": "display_data"
    }
   ],
   "source": [
    "plot_acf(shampoo)"
   ]
  },
  {
   "cell_type": "code",
   "execution_count": 29,
   "metadata": {},
   "outputs": [
    {
     "name": "stderr",
     "output_type": "stream",
     "text": [
      "C:\\Users\\zeesh\\Anaconda3\\lib\\site-packages\\statsmodels\\regression\\linear_model.py:1283: RuntimeWarning: invalid value encountered in sqrt\n",
      "  return rho, np.sqrt(sigmasq)\n"
     ]
    },
    {
     "data": {
      "image/png": "[encoded data removed]",
      "text/plain": [
       "<Figure size 432x288 with 1 Axes>"
      ]
     },
     "execution_count": 29,
     "metadata": {},
     "output_type": "execute_result"
    },
    {
     "data": {
      "image/png": "[encoded data removed]",
      "text/plain": [
       "<Figure size 432x288 with 1 Axes>"
      ]
     },
     "metadata": {
      "needs_background": "light"
     },
     "output_type": "display_data"
    }
   ],
   "source": [
    "plot_pacf(shampoo)"
   ]
  },
  {
   "cell_type": "code",
   "execution_count": 30,
   "metadata": {},
   "outputs": [],
   "source": [
    "from statsmodels.tsa.arima_model import ARIMA"
   ]
  },
  {
   "cell_type": "code",
   "execution_count": 31,
   "metadata": {},
   "outputs": [
    {
     "name": "stderr",
     "output_type": "stream",
     "text": [
      "C:\\Users\\zeesh\\Anaconda3\\lib\\site-packages\\statsmodels\\tsa\\base\\tsa_model.py:221: ValueWarning: An unsupported index was provided and will be ignored when e.g. forecasting.\n",
      "  ' ignored when e.g. forecasting.', ValueWarning)\n",
      "C:\\Users\\zeesh\\Anaconda3\\lib\\site-packages\\statsmodels\\tsa\\base\\tsa_model.py:221: ValueWarning: An unsupported index was provided and will be ignored when e.g. forecasting.\n",
      "  ' ignored when e.g. forecasting.', ValueWarning)\n"
     ]
    }
   ],
   "source": [
    "shampoo_train= shampoo[0:25]\n",
    "shampoo_test= shampoo[25:36]\n",
    "shampoo_model= ARIMA(shampoo_train, order=(3,1,2))"
   ]
  },
  {
   "cell_type": "code",
   "execution_count": 32,
   "metadata": {},
   "outputs": [],
   "source": [
    "shampoo_model_fit= shampoo_model.fit()"
   ]
  },
  {
   "cell_type": "code",
   "execution_count": 33,
   "metadata": {},
   "outputs": [
    {
     "data": {
      "text/plain": [
       "272.38919480713037"
      ]
     },
     "execution_count": 33,
     "metadata": {},
     "output_type": "execute_result"
    }
   ],
   "source": [
    "shampoo_model_fit.aic"
   ]
  },
  {
   "cell_type": "code",
   "execution_count": 34,
   "metadata": {},
   "outputs": [],
   "source": [
    "shampoo_forecast = shampoo_model_fit.forecast(steps= 11)[0]"
   ]
  },
  {
   "cell_type": "code",
   "execution_count": 35,
   "metadata": {},
   "outputs": [
    {
     "data": {
      "text/plain": [
       "130.92713917809232"
      ]
     },
     "execution_count": 35,
     "metadata": {},
     "output_type": "execute_result"
    }
   ],
   "source": [
    "np.sqrt(mean_squared_error(shampoo_test,shampoo_forecast))"
   ]
  },
  {
   "cell_type": "code",
   "execution_count": 36,
   "metadata": {},
   "outputs": [],
   "source": [
    "p_values= range(0,5)\n",
    "d_values= range(0,5)\n",
    "q_values= range(0,5)"
   ]
  },
  {
   "cell_type": "code",
   "execution_count": 37,
   "metadata": {},
   "outputs": [
    {
     "name": "stdout",
     "output_type": "stream",
     "text": [
      "ARIMA- (0, 0, 0) MSE- 77950.15\n",
      "ARIMA- (0, 0, 1) MSE- 70119.28\n",
      "ARIMA- (0, 0, 2) MSE- 58566.48\n",
      "ARIMA- (0, 0, 3) MSE- 62031.35\n",
      "ARIMA- (0, 1, 0) MSE- 33849.87\n",
      "ARIMA- (0, 1, 1) MSE- 40654.02\n",
      "ARIMA- (0, 1, 2) MSE- 34511.83\n",
      "ARIMA- (0, 2, 0) MSE- 34017.03\n",
      "ARIMA- (0, 2, 1) MSE- 28392.48\n",
      "ARIMA- (1, 0, 0) MSE- 61158.70\n",
      "ARIMA- (1, 0, 1) MSE- 46528.76\n",
      "ARIMA- (1, 0, 2) MSE- 43922.40\n",
      "ARIMA- (1, 0, 4) MSE- 25186.22\n",
      "ARIMA- (1, 1, 0) MSE- 31687.07\n",
      "ARIMA- (1, 1, 1) MSE- 42176.68\n",
      "ARIMA- (1, 2, 0) MSE- 18845.84\n",
      "ARIMA- (1, 2, 1) MSE- 26129.56\n",
      "ARIMA- (2, 0, 0) MSE- 45248.48\n",
      "ARIMA- (2, 1, 0) MSE- 35488.30\n",
      "ARIMA- (2, 1, 1) MSE- 39633.97\n",
      "ARIMA- (2, 1, 2) MSE- 35884.79\n",
      "ARIMA- (2, 2, 0) MSE- 34024.29\n",
      "ARIMA- (3, 0, 0) MSE- 46326.09\n",
      "ARIMA- (3, 1, 0) MSE- 22024.88\n",
      "ARIMA- (3, 1, 1) MSE- 22841.65\n",
      "ARIMA- (3, 1, 2) MSE- 18095.38\n",
      "ARIMA- (3, 1, 4) MSE- 37611.10\n",
      "ARIMA- (3, 2, 0) MSE- 24695.30\n",
      "ARIMA- (3, 2, 1) MSE- 16368.69\n",
      "ARIMA- (3, 2, 2) MSE- 15804.24\n",
      "ARIMA- (3, 2, 3) MSE- 14492.28\n",
      "ARIMA- (4, 0, 1) MSE- 28339.17\n",
      "ARIMA- (4, 1, 0) MSE- 22339.38\n",
      "ARIMA- (4, 1, 1) MSE- 22615.98\n",
      "ARIMA- (4, 1, 2) MSE- 19179.63\n",
      "ARIMA- (4, 1, 3) MSE- 20601.65\n",
      "ARIMA- (4, 1, 4) MSE- 19303.95\n",
      "ARIMA- (4, 2, 0) MSE- 20052.26\n",
      "ARIMA- (4, 2, 1) MSE- 15572.78\n",
      "ARIMA- (4, 2, 2) MSE- 17543.59\n",
      "ARIMA- (4, 2, 3) MSE- 16154.16\n"
     ]
    }
   ],
   "source": [
    "import warnings\n",
    "warnings.filterwarnings(\"ignore\")\n",
    "\n",
    "for p in p_values:\n",
    "    for d in d_values:\n",
    "        for q in q_values:\n",
    "            order= (p,d,q)\n",
    "            train, test= shampoo[0:25], shampoo[25:36]\n",
    "            predictions = list()\n",
    "            for i in range(len(test)):\n",
    "                try:\n",
    "                    model=ARIMA(train,order)\n",
    "                    model_fit=model.fit()\n",
    "                    pred_y= model_fit.forecast()[0]\n",
    "                    predictions.append(pred_y)\n",
    "                    error= mean_squared_error(test,predictions)\n",
    "                    print(\"ARIMA- %s MSE- %.2f\" %(order, error))\n",
    "                except:\n",
    "                    continue\n",
    "                    "
   ]
  },
  {
   "cell_type": "code",
   "execution_count": 39,
   "metadata": {},
   "outputs": [
    {
     "data": {
      "text/plain": [
       "statsmodels.tsa.arima_model.ARIMA"
      ]
     },
     "execution_count": 39,
     "metadata": {},
     "output_type": "execute_result"
    }
   ],
   "source": [
    "ARIMA"
   ]
  },
  {
   "cell_type": "code",
   "execution_count": null,
   "metadata": {},
   "outputs": [],
   "source": []
  }
 ],
 "metadata": {
  "kernelspec": {
   "display_name": "Python 3",
   "language": "python",
   "name": "python3"
  },
  "language_info": {
   "codemirror_mode": {
    "name": "ipython",
    "version": 3
   },
   "file_extension": ".py",
   "mimetype": "text/x-python",
   "name": "python",
   "nbconvert_exporter": "python",
   "pygments_lexer": "ipython3",
   "version": "3.7.3"
  }
 },
 "nbformat": 4,
 "nbformat_minor": 2
}
